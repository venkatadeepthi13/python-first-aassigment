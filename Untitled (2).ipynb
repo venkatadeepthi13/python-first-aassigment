{
 "cells": [
  {
   "cell_type": "code",
   "execution_count": 1,
   "id": "9f83a872",
   "metadata": {},
   "outputs": [],
   "source": [
    "#Write a python program to convert a string to lower case"
   ]
  },
  {
   "cell_type": "code",
   "execution_count": 2,
   "id": "19880fe8",
   "metadata": {},
   "outputs": [
    {
     "data": {
      "text/plain": [
       "'deepthi'"
      ]
     },
     "execution_count": 2,
     "metadata": {},
     "output_type": "execute_result"
    }
   ],
   "source": [
    "var='DEEPTHI'\n",
    "var.lower()"
   ]
  },
  {
   "cell_type": "code",
   "execution_count": 3,
   "id": "17784158",
   "metadata": {},
   "outputs": [],
   "source": [
    "#Write a python program to convert only odd indexed characters to lower case\n",
    "#Ex:- PYTHON\n",
    "#Output:- PyThOn"
   ]
  },
  {
   "cell_type": "code",
   "execution_count": 14,
   "id": "f10c0947",
   "metadata": {},
   "outputs": [
    {
     "data": {
      "text/plain": [
       "'PyThOn'"
      ]
     },
     "execution_count": 14,
     "metadata": {},
     "output_type": "execute_result"
    }
   ],
   "source": [
    "x='PYTHON'\n",
    "x[0]+x[1].lower()+x[2]+x[3].lower()+x[4]+x[5].lower()"
   ]
  },
  {
   "cell_type": "code",
   "execution_count": 7,
   "id": "ed2a1543",
   "metadata": {},
   "outputs": [],
   "source": [
    "#Write a python program to convert only even indexed characters to lower case\n",
    "#Ex:- PYTHON\n",
    "#Output: - pYtHoN"
   ]
  },
  {
   "cell_type": "code",
   "execution_count": 18,
   "id": "ed703516",
   "metadata": {},
   "outputs": [
    {
     "data": {
      "text/plain": [
       "'pYtHoN'"
      ]
     },
     "execution_count": 18,
     "metadata": {},
     "output_type": "execute_result"
    }
   ],
   "source": [
    "x='PYTHON'\n",
    "x[0].lower()+x[1]+x[2].lower()+x[3]+x[4].lower()+x[5]"
   ]
  },
  {
   "cell_type": "code",
   "execution_count": 9,
   "id": "891d5cc0",
   "metadata": {},
   "outputs": [],
   "source": [
    "#Write a python program to convert only odd indexed characters to upper case\n",
    "#Ex:- PYTHON\n",
    "#Output: - pYtHoN"
   ]
  },
  {
   "cell_type": "code",
   "execution_count": 20,
   "id": "31e5f3df",
   "metadata": {},
   "outputs": [
    {
     "data": {
      "text/plain": [
       "'pYtHoN'"
      ]
     },
     "execution_count": 20,
     "metadata": {},
     "output_type": "execute_result"
    }
   ],
   "source": [
    "x='PYTHON'\n",
    "x[0].lower()+x[1]+x[2].lower()+x[3]+x[4].lower()+x[5]"
   ]
  },
  {
   "cell_type": "code",
   "execution_count": 11,
   "id": "e662eb2e",
   "metadata": {},
   "outputs": [],
   "source": [
    "#Write a python program to convert only even indexed characters to upper case\n",
    "#Ex:- python\n",
    "#Output: - PyThOn"
   ]
  },
  {
   "cell_type": "code",
   "execution_count": 21,
   "id": "4d3df7af",
   "metadata": {},
   "outputs": [
    {
     "data": {
      "text/plain": [
       "'PyThOn'"
      ]
     },
     "execution_count": 21,
     "metadata": {},
     "output_type": "execute_result"
    }
   ],
   "source": [
    "x='PYTHON'\n",
    "x[0]+x[1].lower()+x[2]+x[3].lower()+x[4]+x[5].lower()"
   ]
  },
  {
   "cell_type": "code",
   "execution_count": 13,
   "id": "c6cde60b",
   "metadata": {},
   "outputs": [],
   "source": [
    "#Write a python program where you have different variable which contains your name ,sex,age, phone no ,fathers name and mothers\n",
    "#name.And by using this variable create avariable named bio-data where you will use all this variable\n",
    "#Ex:-print(bio-data)\n",
    "#output:- My name is …., My age is ….,Myphone-no is ….,my fathers name is …,and mymothers name is……"
   ]
  },
  {
   "cell_type": "code",
   "execution_count": 3,
   "id": "bc6cf9be",
   "metadata": {},
   "outputs": [
    {
     "name": "stdout",
     "output_type": "stream",
     "text": [
      "enter your name: MUneera\n",
      "enter your sex: F\n",
      "enter your phone_number: 9868756675\n",
      "enter your father_name: Baji\n",
      "enter your mother_name: Mastanbi\n"
     ]
    }
   ],
   "source": [
    "name=input('enter your name: ')\n",
    "sex=input('enter your sex: ')\n",
    "phone_number=int(input('enter your phone_number: '))\n",
    "father_name=input('enter your father_name: ')\n",
    "mother_name=input('enter your mother_name: ')\n"
   ]
  },
  {
   "cell_type": "code",
   "execution_count": 5,
   "id": "ffd2a467",
   "metadata": {},
   "outputs": [
    {
     "data": {
      "text/plain": [
       "'My name is MUneera , My sex is F ,My phone nummber is 9868756675 ,My father name is Baji ,My mother name is Mastanbi'"
      ]
     },
     "execution_count": 5,
     "metadata": {},
     "output_type": "execute_result"
    }
   ],
   "source": [
    "bio_data='My name is {} , My sex is {} ,My phone nummber is {} ,My father name is {} ,My mother name is {}'\n",
    "bio_data.format(name,sex,phone_number,father_name,mother_name)"
   ]
  },
  {
   "cell_type": "code",
   "execution_count": null,
   "id": "8a3fe16f",
   "metadata": {},
   "outputs": [],
   "source": [
    "#Write a python program to count how many times “@” occurred"
   ]
  },
  {
   "cell_type": "code",
   "execution_count": 6,
   "id": "832706ad",
   "metadata": {},
   "outputs": [
    {
     "data": {
      "text/plain": [
       "7"
      ]
     },
     "execution_count": 6,
     "metadata": {},
     "output_type": "execute_result"
    }
   ],
   "source": [
    "var1='n@lek@hl@kjl@qj@nlj@bjf2@'\n",
    "var1.count('@')"
   ]
  },
  {
   "cell_type": "code",
   "execution_count": 7,
   "id": "16d4dd4d",
   "metadata": {},
   "outputs": [],
   "source": [
    "#Write a python program to get only names from the string “name1.@gmail.com,name2.@gmail.com,name 3.@gmail.com\" \n",
    "#Output-name1,name2,name3"
   ]
  },
  {
   "cell_type": "code",
   "execution_count": 20,
   "id": "c55c1111",
   "metadata": {},
   "outputs": [
    {
     "data": {
      "text/plain": [
       "'name1,name2,name3'"
      ]
     },
     "execution_count": 20,
     "metadata": {},
     "output_type": "execute_result"
    }
   ],
   "source": [
    "x='name1.@gmail.com,name2.@gmail.com,name3.@gmail.com'\n",
    "x.replace(\".@gmail.com\",'')"
   ]
  },
  {
   "cell_type": "code",
   "execution_count": 17,
   "id": "3bc027bd",
   "metadata": {},
   "outputs": [],
   "source": [
    "#Given a string of odd length greater that 9, return a new string made of the middle three characters of a given String\n",
    "#Ex:- “mynameissan\n",
    "#Output:- “mei”"
   ]
  },
  {
   "cell_type": "code",
   "execution_count": 23,
   "id": "f6acb274",
   "metadata": {},
   "outputs": [
    {
     "data": {
      "text/plain": [
       "'sde'"
      ]
     },
     "execution_count": 23,
     "metadata": {},
     "output_type": "execute_result"
    }
   ],
   "source": [
    "x='mynameisdeepthi'\n",
    "x[7:10]"
   ]
  },
  {
   "cell_type": "code",
   "execution_count": 11,
   "id": "c0cdb8f3",
   "metadata": {},
   "outputs": [],
   "source": [
    "#Write a python program to insert a 2 string in the middle of 1 string\n",
    "#Ex:-Str1=”myn”\n",
    "#Str2=”sa”\n",
    "#Output:-“msayn”"
   ]
  },
  {
   "cell_type": "code",
   "execution_count": 24,
   "id": "f849460b",
   "metadata": {},
   "outputs": [
    {
     "data": {
      "text/plain": [
       "'msayn'"
      ]
     },
     "execution_count": 24,
     "metadata": {},
     "output_type": "execute_result"
    }
   ],
   "source": [
    "x='myn'\n",
    "y='sa'\n",
    "x.replace('m','msa')"
   ]
  },
  {
   "cell_type": "code",
   "execution_count": 12,
   "id": "52516671",
   "metadata": {},
   "outputs": [],
   "source": [
    "#Write a program to remove vowels from the entire alphabets \n",
    "#Ex:- “abcdefghijklmnopqrstuvwxyz”\n",
    "#Output:-“bcdfghjklmnpqrstvwxyz”"
   ]
  },
  {
   "cell_type": "code",
   "execution_count": 26,
   "id": "4d490583",
   "metadata": {},
   "outputs": [
    {
     "data": {
      "text/plain": [
       "'bcdfghjklmnpqrstvwxyz'"
      ]
     },
     "execution_count": 26,
     "metadata": {},
     "output_type": "execute_result"
    }
   ],
   "source": [
    "x='abcdefghijklmnopqrstuvwxyz'\n",
    "x.replace('a','').replace('e','').replace('i','').replace('o','').replace('u','')"
   ]
  },
  {
   "cell_type": "code",
   "execution_count": null,
   "id": "af5302ea",
   "metadata": {},
   "outputs": [],
   "source": []
  }
 ],
 "metadata": {
  "kernelspec": {
   "display_name": "Python 3 (ipykernel)",
   "language": "python",
   "name": "python3"
  },
  "language_info": {
   "codemirror_mode": {
    "name": "ipython",
    "version": 3
   },
   "file_extension": ".py",
   "mimetype": "text/x-python",
   "name": "python",
   "nbconvert_exporter": "python",
   "pygments_lexer": "ipython3",
   "version": "3.9.7"
  }
 },
 "nbformat": 4,
 "nbformat_minor": 5
}
